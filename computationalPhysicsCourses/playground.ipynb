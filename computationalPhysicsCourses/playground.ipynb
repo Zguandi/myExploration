{
 "cells": [
  {
   "cell_type": "code",
   "execution_count": 1,
   "metadata": {},
   "outputs": [
    {
     "data": {
      "text/plain": [
       "compare (generic function with 1 method)"
      ]
     },
     "execution_count": 1,
     "metadata": {},
     "output_type": "execute_result"
    }
   ],
   "source": [
    "function power_algorithm(n)\n",
    "    return BigFloat((1.0+1.0/n)^n)\n",
    "end\n",
    "\n",
    "function log_algorithm(n)\n",
    "    return BigFloat(exp(n*log(1.0+1.0/n)))\n",
    "end\n",
    "\n",
    "function compare(list_n)\n",
    "    for n in list_n\n",
    "        println(\"n = \", n)\n",
    "        println(\"Power algorithm: \", power_algorithm(n)-exp(1))\n",
    "        println(\"Log algorithm: \", log_algorithm(n)-exp(1))\n",
    "        println()\n",
    "    end\n",
    "end"
   ]
  },
  {
   "cell_type": "code",
   "execution_count": 2,
   "metadata": {},
   "outputs": [
    {
     "name": "stdout",
     "output_type": "stream",
     "text": [
      "n = 1.0e8\n",
      "Power algorithm: -3.01116873657747419201768934726715087890625e-08\n",
      "Log algorithm: -3.0111687809863951770239509642124176025390625e-08\n",
      "\n",
      "n = 1.0e9\n",
      "Power algorithm: 2.23552515166147713898681104183197021484375e-07\n",
      "Log algorithm: 2.23552515166147713898681104183197021484375e-07\n",
      "\n",
      "n = 1.0e10\n",
      "Power algorithm: 2.24775742463378946922603063285350799560546875e-07\n",
      "Log algorithm: 2.24775742463378946922603063285350799560546875e-07\n",
      "\n",
      "n = 1.0e11\n",
      "Power algorithm: 2.24898065059875307269976474344730377197265625e-07\n",
      "Log algorithm: 2.24898065059875307269976474344730377197265625e-07\n",
      "\n",
      "n = 1.0e12\n",
      "Power algorithm: 0.0002416675781926613808536785654723644256591796875\n",
      "Log algorithm: 0.0002416675781926613808536785654723644256591796875\n",
      "\n"
     ]
    }
   ],
   "source": [
    "compare([1.0e8, 1.0e9, 1.0e10, 1.0e11, 1.0e12])"
   ]
  },
  {
   "cell_type": "code",
   "execution_count": 6,
   "metadata": {},
   "outputs": [
    {
     "data": {
      "text/plain": [
       "\"/home/zgd/projects/GithubRepos/myExploration/computationalPhysicsCourses/power_vs_log_algorithm.png\""
      ]
     },
     "execution_count": 6,
     "metadata": {},
     "output_type": "execute_result"
    }
   ],
   "source": [
    "# plot the difference between the two algorithms\n",
    "\n",
    "using Plots\n",
    "n_list = 10 .^ (1:0.2:18)\n",
    "power_results = [power_algorithm(n) for n in n_list]\n",
    "log_results = [log_algorithm(n) for n in n_list]\n",
    "\n",
    "plot(n_list, abs.(power_results .- exp(1)), label=\"Power algorithm\", xaxis=:log, yaxis=:log, legend=:bottomleft)\n",
    "# manually shift the log algorithm to make the plot more readable\n",
    "plot!(n_list, abs.(log_results .- exp(1)).*1.1, label=\"Log algorithm\", xaxis=:log, yaxis=:log, legend=:bottomleft)\n",
    "\n",
    "savefig(\"power_vs_log_algorithm.png\")"
   ]
  },
  {
   "cell_type": "code",
   "execution_count": null,
   "metadata": {},
   "outputs": [],
   "source": []
  }
 ],
 "metadata": {
  "kernelspec": {
   "display_name": "Julia 8 Threads 1.10.5",
   "language": "julia",
   "name": "julia-8-threads-1.10"
  },
  "language_info": {
   "file_extension": ".jl",
   "mimetype": "application/julia",
   "name": "julia",
   "version": "1.10.5"
  }
 },
 "nbformat": 4,
 "nbformat_minor": 2
}
