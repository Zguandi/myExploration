{
 "cells": [
  {
   "cell_type": "code",
   "execution_count": 23,
   "metadata": {},
   "outputs": [
    {
     "data": {
      "text/plain": [
       "compare (generic function with 1 method)"
      ]
     },
     "metadata": {},
     "output_type": "display_data"
    }
   ],
   "source": [
    "function power_algorithm(n)\n",
    "    return (1.0+1.0/n)^n\n",
    "end\n",
    "\n",
    "function log_algorithm(n)\n",
    "    return exp(n*log(1.0+1.0/n))\n",
    "end\n",
    "\n",
    "function compare(list_n)\n",
    "    for n in list_n\n",
    "        println(\"n = \", n)\n",
    "        println(\"Power algorithm: \", power_algorithm(n)-exp(1))\n",
    "        println(\"Log algorithm: \", log_algorithm(n)-exp(1))\n",
    "        println()\n",
    "    end\n",
    "end"
   ]
  },
  {
   "cell_type": "code",
   "execution_count": 25,
   "metadata": {},
   "outputs": [
    {
     "name": "stdout",
     "output_type": "stream",
     "text": [
      "n = 1.0e8\n",
      "Power algorithm: -3.011168736577474e-8\n",
      "Log algorithm: -3.011168780986395e-8\n",
      "\n",
      "n = 1.0e9\n",
      "Power algorithm: 2.2355251516614771e-7\n",
      "Log algorithm: 2.2355251516614771e-7\n",
      "\n",
      "n = 1.0e10\n",
      "Power algorithm: 2.2477574246337895e-7\n",
      "Log algorithm: 2.2477574246337895e-7\n",
      "\n",
      "n = 1.0e11\n",
      "Power algorithm: 2.248980650598753e-7\n",
      "Log algorithm: 2.248980650598753e-7\n",
      "\n",
      "n = 1.0e12\n",
      "Power algorithm: 0.00024166757819266138\n",
      "Log algorithm: 0.00024166757819266138\n",
      "\n"
     ]
    }
   ],
   "source": [
    "compare([1.0e8, 1.0e9, 1.0e10, 1.0e11, 1.0e12])"
   ]
  },
  {
   "cell_type": "code",
   "execution_count": 44,
   "metadata": {},
   "outputs": [
    {
     "data": {
      "text/plain": [
       "\"/home/zgd/projects/GithubRepos/myExploration/computationalPhysicsCourses/power_vs_log_algorithm.png\""
      ]
     },
     "metadata": {},
     "output_type": "display_data"
    }
   ],
   "source": [
    "# plot the difference between the two algorithms\n",
    "\n",
    "using Plots\n",
    "n_list = 10 .^ (1:0.1:12)\n",
    "power_results = [power_algorithm(n) for n in n_list]\n",
    "log_results = [log_algorithm(n) for n in n_list]\n",
    "\n",
    "plot(n_list, abs.(power_results .- exp(1)), label=\"Power algorithm\", xaxis=:log, yaxis=:log, legend=:bottomleft)\n",
    "# manually shift the log algorithm to make the plot more readable\n",
    "plot!(n_list, abs.(log_results .- exp(1)).*1.1, label=\"Log algorithm\", xaxis=:log, yaxis=:log, legend=:bottomleft)\n",
    "\n",
    "savefig(\"power_vs_log_algorithm.png\")"
   ]
  },
  {
   "cell_type": "code",
   "execution_count": null,
   "metadata": {},
   "outputs": [],
   "source": []
  }
 ],
 "metadata": {
  "kernelspec": {
   "display_name": "Julia 1.10.5",
   "language": "julia",
   "name": "julia-1.10"
  },
  "language_info": {
   "file_extension": ".jl",
   "mimetype": "application/julia",
   "name": "julia",
   "version": "1.10.5"
  }
 },
 "nbformat": 4,
 "nbformat_minor": 2
}
